{
  "nbformat": 4,
  "nbformat_minor": 0,
  "metadata": {
    "colab": {
      "provenance": [],
      "authorship_tag": "ABX9TyN0MQRcoMUiUIl/6V+72wzI",
      "include_colab_link": true
    },
    "kernelspec": {
      "name": "python3",
      "display_name": "Python 3"
    },
    "language_info": {
      "name": "python"
    }
  },
  "cells": [
    {
      "cell_type": "markdown",
      "metadata": {
        "id": "view-in-github",
        "colab_type": "text"
      },
      "source": [
        "<a href=\"https://colab.research.google.com/github/SakshiHanamshetti/AI-LAB/blob/main/IMDBrecommendation.ipynb\" target=\"_parent\"><img src=\"https://colab.research.google.com/assets/colab-badge.svg\" alt=\"Open In Colab\"/></a>"
      ]
    },
    {
      "cell_type": "code",
      "execution_count": 2,
      "metadata": {
        "id": "qqOhVm-6oVj1"
      },
      "outputs": [],
      "source": [
        "import pandas as pd\n",
        "import numpy as np\n",
        "import requests\n",
        "from bs4 import BeautifulSoup\n",
        "\n",
        "\n",
        "\n",
        "headers = ({'User-Agent':\n",
        "            'Mozilla/5.0 (Windows NT 6.1) AppleWebKit/537.36 (KHTML, like Gecko) Chrome/84.0.4147.105 Safari/537.36',\n",
        "           'Accept-Language': 'en-US, en;q=0.5'})\n",
        "\n",
        "\n",
        "movie_name = []\n",
        "year = []\n",
        "time=[]\n",
        "rating=[]\n",
        "metascore =[]\n",
        "director=[]\n",
        "votes = []\n",
        "gross = []\n",
        "description = []\n",
        "genre=[]\n",
        "cast=[]\n",
        "cas=[]\n",
        "pages = np.arange(1,1000,50)\n",
        "#https://www.imdb.com/search/title/?title_type=feature&primary_language=en\n",
        "#https://www.imdb.com/search/title/?title_type=feature&primary_language=en&ref_=adv_prv\n",
        "for page in pages:\n",
        "   \n",
        "    page = requests.get(\"https://www.imdb.com/search/title/?title_type=feature&primary_language=en&start=\"+str(page)+\"&ref_=adv_nxt\")\n",
        "    soup = BeautifulSoup(page.text, 'html.parser')\n",
        "    movie_data = soup.findAll('div', attrs = {'class': 'lister-item mode-advanced'})\n",
        "    for store in movie_data:\n",
        "        name = store.h3.a.text\n",
        "        movie_name.append(name)\n",
        "        \n",
        "        year_of_release = store.h3.find('span', class_ = \"lister-item-year text-muted unbold\").text.replace('(', '')\n",
        "        year_of_release=year_of_release.replace(')','')\n",
        "        year.append(year_of_release)\n",
        "        \n",
        "        runtime = store.p.find(\"span\", class_ = 'runtime').text if store.find('span', class_ = \"runtime\") else \"NA\"\n",
        "        time.append(runtime)\n",
        "        \n",
        "        gen = store.p.find(\"span\", class_ = 'genre').text\n",
        "        genre.append(gen)\n",
        "        \n",
        "        rate = store.find('div', class_ = \"inline-block ratings-imdb-rating\").text.replace('\\n', '') if store.find('div', class_ = \"inline-block ratings-imdb-rating\") else \"NA\"\n",
        "        rating.append(rate)\n",
        "        #rate = store.find('div', class_ = \"ratings-bar\").find('strong').text.replace('\\n', '')\n",
        "        #rating.append(rate)\n",
        "        \n",
        "        meta = store.find('span', class_ = \"metascore\").text if store.find('span', class_ = \"metascore\") else \"NA\"#if meta score not present then *\n",
        "        \n",
        "        metascore.append(meta)\n",
        "        \n",
        "        #dire=store.find('p',class_ = \"metascore\")\n",
        "        dire=store.find('p',class_='').find_all('a')[0].text\n",
        "        \n",
        "        director.append(dire)\n",
        "        \n",
        "        #cas=([a.text for a in store.find('p',class_='').find_all('a')[1:]])\n",
        "        #cast=','.join(map(str,cas))\n",
        "        cast.append([a.text for a in store.find('p',class_='').find_all('a')[1:]])\n",
        "      \n",
        "        value = store.find_all('span', attrs = {'name':'nv'}) if store.find_all('span', attrs = {'name':'nv'}) else 'NA'\n",
        "        vote = value[0].text if store.find_all('span', attrs = {'name':'nv'}) else 'NA'\n",
        "\n",
        "        votes.append(vote)\n",
        "        \n",
        "        describe = store.find_all('p', class_ = 'text-muted')\n",
        "        description_ = describe[1].text.replace('\\n', '') if len(describe) >1 else 'NA'\n",
        "        description.append(description_)\n",
        "        \n",
        "#dataframe\n",
        "for i in cast:\n",
        "    c=','.join(map(str,i))\n",
        "    cas.append(c)\n",
        "   \n",
        "movie_list = pd.DataFrame({ \"Movie Name\": movie_name, \"Year of Release\" : year, \"Watch Time\": time,\"Genre\":genre,\"Movie Rating\": rating, \"Metascore of movie\": metascore,\"Director\":director,\"Cast\":cas,\"Votes\" : votes,\"Description\": description})\n",
        "movie_list.to_excel(\"movie_data_new1.xlsx\")"
      ]
    },
    {
      "cell_type": "code",
      "source": [
        "import pandas as pd\n",
        "from sklearn.feature_extraction.text import TfidfVectorizer\n",
        "from sklearn.metrics.pairwise import linear_kernel\n",
        "import pickle"
      ],
      "metadata": {
        "id": "XHfijg9Bo8Qm"
      },
      "execution_count": 3,
      "outputs": []
    },
    {
      "cell_type": "code",
      "source": [
        "data=pd.read_excel(\"movie_data_new1.xlsx\")\n",
        "data.rename(columns={'Unnamed: 0': 'movie_id'}, inplace=True)\n",
        "columns=['Cast','Director','Genre','Movie Name','Description','Movie Rating']"
      ],
      "metadata": {
        "id": "ee7uUvXor7Nm"
      },
      "execution_count": 18,
      "outputs": []
    },
    {
      "cell_type": "code",
      "source": [
        "def get_important_features(data):\n",
        "    important_features=[]\n",
        "    for i in range (0,data.shape[0]):\n",
        "        important_features.append(str(data['Movie Name'][i]) + ' ' + str(data['Director'][i]) + ' ' + str(data['Genre'][i]) + ' ' + str(data['Description'][i]) + ' ' + str(data['Cast']) + ' ' + str(data['Movie Rating'][i]))\n",
        "    return important_features"
      ],
      "metadata": {
        "id": "5s3DnW6GtUJq"
      },
      "execution_count": 27,
      "outputs": []
    },
    {
      "cell_type": "code",
      "source": [
        "print(data.columns)\n"
      ],
      "metadata": {
        "colab": {
          "base_uri": "https://localhost:8080/"
        },
        "id": "qO0YmXdTxYIE",
        "outputId": "aceb77bb-c083-4682-8221-8a7755723e2d"
      },
      "execution_count": 17,
      "outputs": [
        {
          "output_type": "stream",
          "name": "stdout",
          "text": [
            "Index(['movie_id', 'Movie Name', 'Year of Release', 'Watch Time', 'Genre',\n",
            "       'Movie Rating', 'Metascore of movie', 'Director', 'Cast', 'Votes',\n",
            "       'Description'],\n",
            "      dtype='object')\n"
          ]
        }
      ]
    },
    {
      "cell_type": "code",
      "source": [
        "data['important_features'] = get_important_features(data)"
      ],
      "metadata": {
        "id": "EOkA6Cm3xrf3"
      },
      "execution_count": 28,
      "outputs": []
    },
    {
      "cell_type": "code",
      "source": [
        "tfidf = TfidfVectorizer(stop_words='english')\n",
        "#data['Description'] = data['Description'].fillna('')\n",
        "tfidf_matrix = tfidf.fit_transform(data['important_features'])\n",
        "tfidf_matrix.shape"
      ],
      "metadata": {
        "colab": {
          "base_uri": "https://localhost:8080/"
        },
        "id": "jm-1COUKzr_i",
        "outputId": "d4abea9f-d558-4bc2-d513-e7b0fa527254"
      },
      "execution_count": 29,
      "outputs": [
        {
          "output_type": "execute_result",
          "data": {
            "text/plain": [
              "(1000, 6779)"
            ]
          },
          "metadata": {},
          "execution_count": 29
        }
      ]
    },
    {
      "cell_type": "code",
      "source": [
        "print(data.shape)"
      ],
      "metadata": {
        "colab": {
          "base_uri": "https://localhost:8080/"
        },
        "id": "QUqs2nt9z1NV",
        "outputId": "862ff0a9-84e8-4369-9349-4a22fcc23728"
      },
      "execution_count": 30,
      "outputs": [
        {
          "output_type": "stream",
          "name": "stdout",
          "text": [
            "(1000, 12)\n"
          ]
        }
      ]
    },
    {
      "cell_type": "code",
      "source": [
        "cosine_sim = linear_kernel(tfidf_matrix, tfidf_matrix)\n",
        "cosine_sim"
      ],
      "metadata": {
        "colab": {
          "base_uri": "https://localhost:8080/"
        },
        "id": "T_HH-jxO0DKm",
        "outputId": "52aeee28-5ebd-4fa6-f8c3-6acebaa317a0"
      },
      "execution_count": 32,
      "outputs": [
        {
          "output_type": "execute_result",
          "data": {
            "text/plain": [
              "array([[1.        , 0.0809269 , 0.10525309, ..., 0.08945696, 0.10167142,\n",
              "        0.07471595],\n",
              "       [0.0809269 , 1.        , 0.10968704, ..., 0.10898818, 0.15573178,\n",
              "        0.09102876],\n",
              "       [0.10525309, 0.10968704, 1.        , ..., 0.12124853, 0.13780382,\n",
              "        0.10126881],\n",
              "       ...,\n",
              "       [0.08945696, 0.10898818, 0.12124853, ..., 1.        , 0.18886003,\n",
              "        0.11664984],\n",
              "       [0.10167142, 0.15573178, 0.13780382, ..., 0.18886003, 1.        ,\n",
              "        0.12551199],\n",
              "       [0.07471595, 0.09102876, 0.10126881, ..., 0.11664984, 0.12551199,\n",
              "        1.        ]])"
            ]
          },
          "metadata": {},
          "execution_count": 32
        }
      ]
    },
    {
      "cell_type": "code",
      "source": [
        "indices = pd.Series(data.index, index=data['Movie Name']).drop_duplicates()\n",
        "#indices['Stillwater']\n",
        "#sim_scores = list(enumerate(cosine_sim[indices['Stillwater']]))\n",
        "def get_recommendations(title, cosine_sim=cosine_sim):\n",
        "    idx = indices[title]\n",
        "    # Get the pairwsie similarity scores of all movies with that movie\n",
        "    sim_scores = list(enumerate(cosine_sim[idx]))\n",
        "    # Sort the movies based on the similarity score\n",
        "    sim_scores = sorted(sim_scores, key=lambda x: x[1], reverse=True)\n",
        "    sim_scores = sim_scores[1:6]\n",
        "    movie_indices = [i[0] for i in sim_scores]\n",
        "    # Return the top 5 most similar movies\n",
        "    movies=data['Movie Name'].iloc[movie_indices]\n",
        "    id=data['movie_id'].iloc[movie_indices]\n",
        "    dict={\"Movies\":movies,\"id\":id}\n",
        "    final_df=pd.DataFrame(dict)\n",
        "    final_df.reset_index(drop=True,inplace=True)\n",
        "    return final_df"
      ],
      "metadata": {
        "id": "HiM3BNfw0icl"
      },
      "execution_count": 36,
      "outputs": []
    },
    {
      "cell_type": "code",
      "source": [
        "get_recommendations('Spider-Man: Far from Home')"
      ],
      "metadata": {
        "colab": {
          "base_uri": "https://localhost:8080/",
          "height": 206
        },
        "id": "FUBW5jjJ0o0K",
        "outputId": "35597353-3945-40fe-9b5a-39660339f494"
      },
      "execution_count": 38,
      "outputs": [
        {
          "output_type": "execute_result",
          "data": {
            "text/plain": [
              "                                Movies   id\n",
              "0              Spider-Man: No Way Home   58\n",
              "1  Spider-Man: Beyond the Spider-Verse   31\n",
              "2               Spider-Man: Homecoming  146\n",
              "3    Spider-Man: Into the Spider-Verse    4\n",
              "4             The Amazing Spider-Man 2  634"
            ],
            "text/html": [
              "\n",
              "  <div id=\"df-cf7c9d21-b416-43ec-9179-7f19179656c0\">\n",
              "    <div class=\"colab-df-container\">\n",
              "      <div>\n",
              "<style scoped>\n",
              "    .dataframe tbody tr th:only-of-type {\n",
              "        vertical-align: middle;\n",
              "    }\n",
              "\n",
              "    .dataframe tbody tr th {\n",
              "        vertical-align: top;\n",
              "    }\n",
              "\n",
              "    .dataframe thead th {\n",
              "        text-align: right;\n",
              "    }\n",
              "</style>\n",
              "<table border=\"1\" class=\"dataframe\">\n",
              "  <thead>\n",
              "    <tr style=\"text-align: right;\">\n",
              "      <th></th>\n",
              "      <th>Movies</th>\n",
              "      <th>id</th>\n",
              "    </tr>\n",
              "  </thead>\n",
              "  <tbody>\n",
              "    <tr>\n",
              "      <th>0</th>\n",
              "      <td>Spider-Man: No Way Home</td>\n",
              "      <td>58</td>\n",
              "    </tr>\n",
              "    <tr>\n",
              "      <th>1</th>\n",
              "      <td>Spider-Man: Beyond the Spider-Verse</td>\n",
              "      <td>31</td>\n",
              "    </tr>\n",
              "    <tr>\n",
              "      <th>2</th>\n",
              "      <td>Spider-Man: Homecoming</td>\n",
              "      <td>146</td>\n",
              "    </tr>\n",
              "    <tr>\n",
              "      <th>3</th>\n",
              "      <td>Spider-Man: Into the Spider-Verse</td>\n",
              "      <td>4</td>\n",
              "    </tr>\n",
              "    <tr>\n",
              "      <th>4</th>\n",
              "      <td>The Amazing Spider-Man 2</td>\n",
              "      <td>634</td>\n",
              "    </tr>\n",
              "  </tbody>\n",
              "</table>\n",
              "</div>\n",
              "      <button class=\"colab-df-convert\" onclick=\"convertToInteractive('df-cf7c9d21-b416-43ec-9179-7f19179656c0')\"\n",
              "              title=\"Convert this dataframe to an interactive table.\"\n",
              "              style=\"display:none;\">\n",
              "        \n",
              "  <svg xmlns=\"http://www.w3.org/2000/svg\" height=\"24px\"viewBox=\"0 0 24 24\"\n",
              "       width=\"24px\">\n",
              "    <path d=\"M0 0h24v24H0V0z\" fill=\"none\"/>\n",
              "    <path d=\"M18.56 5.44l.94 2.06.94-2.06 2.06-.94-2.06-.94-.94-2.06-.94 2.06-2.06.94zm-11 1L8.5 8.5l.94-2.06 2.06-.94-2.06-.94L8.5 2.5l-.94 2.06-2.06.94zm10 10l.94 2.06.94-2.06 2.06-.94-2.06-.94-.94-2.06-.94 2.06-2.06.94z\"/><path d=\"M17.41 7.96l-1.37-1.37c-.4-.4-.92-.59-1.43-.59-.52 0-1.04.2-1.43.59L10.3 9.45l-7.72 7.72c-.78.78-.78 2.05 0 2.83L4 21.41c.39.39.9.59 1.41.59.51 0 1.02-.2 1.41-.59l7.78-7.78 2.81-2.81c.8-.78.8-2.07 0-2.86zM5.41 20L4 18.59l7.72-7.72 1.47 1.35L5.41 20z\"/>\n",
              "  </svg>\n",
              "      </button>\n",
              "      \n",
              "  <style>\n",
              "    .colab-df-container {\n",
              "      display:flex;\n",
              "      flex-wrap:wrap;\n",
              "      gap: 12px;\n",
              "    }\n",
              "\n",
              "    .colab-df-convert {\n",
              "      background-color: #E8F0FE;\n",
              "      border: none;\n",
              "      border-radius: 50%;\n",
              "      cursor: pointer;\n",
              "      display: none;\n",
              "      fill: #1967D2;\n",
              "      height: 32px;\n",
              "      padding: 0 0 0 0;\n",
              "      width: 32px;\n",
              "    }\n",
              "\n",
              "    .colab-df-convert:hover {\n",
              "      background-color: #E2EBFA;\n",
              "      box-shadow: 0px 1px 2px rgba(60, 64, 67, 0.3), 0px 1px 3px 1px rgba(60, 64, 67, 0.15);\n",
              "      fill: #174EA6;\n",
              "    }\n",
              "\n",
              "    [theme=dark] .colab-df-convert {\n",
              "      background-color: #3B4455;\n",
              "      fill: #D2E3FC;\n",
              "    }\n",
              "\n",
              "    [theme=dark] .colab-df-convert:hover {\n",
              "      background-color: #434B5C;\n",
              "      box-shadow: 0px 1px 3px 1px rgba(0, 0, 0, 0.15);\n",
              "      filter: drop-shadow(0px 1px 2px rgba(0, 0, 0, 0.3));\n",
              "      fill: #FFFFFF;\n",
              "    }\n",
              "  </style>\n",
              "\n",
              "      <script>\n",
              "        const buttonEl =\n",
              "          document.querySelector('#df-cf7c9d21-b416-43ec-9179-7f19179656c0 button.colab-df-convert');\n",
              "        buttonEl.style.display =\n",
              "          google.colab.kernel.accessAllowed ? 'block' : 'none';\n",
              "\n",
              "        async function convertToInteractive(key) {\n",
              "          const element = document.querySelector('#df-cf7c9d21-b416-43ec-9179-7f19179656c0');\n",
              "          const dataTable =\n",
              "            await google.colab.kernel.invokeFunction('convertToInteractive',\n",
              "                                                     [key], {});\n",
              "          if (!dataTable) return;\n",
              "\n",
              "          const docLinkHtml = 'Like what you see? Visit the ' +\n",
              "            '<a target=\"_blank\" href=https://colab.research.google.com/notebooks/data_table.ipynb>data table notebook</a>'\n",
              "            + ' to learn more about interactive tables.';\n",
              "          element.innerHTML = '';\n",
              "          dataTable['output_type'] = 'display_data';\n",
              "          await google.colab.output.renderOutput(dataTable, element);\n",
              "          const docLink = document.createElement('div');\n",
              "          docLink.innerHTML = docLinkHtml;\n",
              "          element.appendChild(docLink);\n",
              "        }\n",
              "      </script>\n",
              "    </div>\n",
              "  </div>\n",
              "  "
            ]
          },
          "metadata": {},
          "execution_count": 38
        }
      ]
    },
    {
      "cell_type": "code",
      "source": [
        "data.info()\n",
        "new = data.drop(columns=['Year of Release','Watch Time','Genre','Movie Rating','Metascore of movie','Director','Cast','Votes','Description'])\n",
        "\n",
        "pickle.dump(new,open('movie_list.pkl','wb'))\n",
        "pickle.dump(cosine_sim,open('similarity.pkl','wb'))"
      ],
      "metadata": {
        "colab": {
          "base_uri": "https://localhost:8080/"
        },
        "id": "Ye-pyNPV1dzO",
        "outputId": "0c183c3e-1320-43b7-b94e-cbcf2d218a4f"
      },
      "execution_count": 39,
      "outputs": [
        {
          "output_type": "stream",
          "name": "stdout",
          "text": [
            "<class 'pandas.core.frame.DataFrame'>\n",
            "RangeIndex: 1000 entries, 0 to 999\n",
            "Data columns (total 12 columns):\n",
            " #   Column              Non-Null Count  Dtype  \n",
            "---  ------              --------------  -----  \n",
            " 0   movie_id            1000 non-null   int64  \n",
            " 1   Movie Name          1000 non-null   object \n",
            " 2   Year of Release     997 non-null    object \n",
            " 3   Watch Time          958 non-null    object \n",
            " 4   Genre               1000 non-null   object \n",
            " 5   Movie Rating        946 non-null    float64\n",
            " 6   Metascore of movie  912 non-null    float64\n",
            " 7   Director            1000 non-null   object \n",
            " 8   Cast                999 non-null    object \n",
            " 9   Votes               946 non-null    object \n",
            " 10  Description         1000 non-null   object \n",
            " 11  important_features  1000 non-null   object \n",
            "dtypes: float64(2), int64(1), object(9)\n",
            "memory usage: 93.9+ KB\n"
          ]
        }
      ]
    },
    {
      "cell_type": "code",
      "source": [
        "!pip install streamlit"
      ],
      "metadata": {
        "colab": {
          "base_uri": "https://localhost:8080/"
        },
        "id": "xyWAlbBD1qKI",
        "outputId": "c0ddcaec-177c-47a4-810d-e44dbe71d9ef"
      },
      "execution_count": 50,
      "outputs": [
        {
          "output_type": "stream",
          "name": "stdout",
          "text": [
            "Looking in indexes: https://pypi.org/simple, https://us-python.pkg.dev/colab-wheels/public/simple/\n",
            "Requirement already satisfied: streamlit in /usr/local/lib/python3.10/dist-packages (1.23.1)\n",
            "Requirement already satisfied: altair<6,>=4.0 in /usr/local/lib/python3.10/dist-packages (from streamlit) (4.2.2)\n",
            "Requirement already satisfied: blinker<2,>=1.0.0 in /usr/local/lib/python3.10/dist-packages (from streamlit) (1.6.2)\n",
            "Requirement already satisfied: cachetools<6,>=4.0 in /usr/local/lib/python3.10/dist-packages (from streamlit) (5.3.0)\n",
            "Requirement already satisfied: click<9,>=7.0 in /usr/local/lib/python3.10/dist-packages (from streamlit) (8.1.3)\n",
            "Requirement already satisfied: importlib-metadata<7,>=1.4 in /usr/local/lib/python3.10/dist-packages (from streamlit) (6.6.0)\n",
            "Requirement already satisfied: numpy<2,>=1 in /usr/local/lib/python3.10/dist-packages (from streamlit) (1.22.4)\n",
            "Requirement already satisfied: packaging<24,>=14.1 in /usr/local/lib/python3.10/dist-packages (from streamlit) (23.1)\n",
            "Requirement already satisfied: pandas<3,>=0.25 in /usr/local/lib/python3.10/dist-packages (from streamlit) (1.5.3)\n",
            "Requirement already satisfied: pillow<10,>=6.2.0 in /usr/local/lib/python3.10/dist-packages (from streamlit) (8.4.0)\n",
            "Requirement already satisfied: protobuf<5,>=3.20 in /usr/local/lib/python3.10/dist-packages (from streamlit) (3.20.3)\n",
            "Requirement already satisfied: pyarrow>=4.0 in /usr/local/lib/python3.10/dist-packages (from streamlit) (9.0.0)\n",
            "Requirement already satisfied: pympler<2,>=0.9 in /usr/local/lib/python3.10/dist-packages (from streamlit) (1.0.1)\n",
            "Requirement already satisfied: python-dateutil<3,>=2 in /usr/local/lib/python3.10/dist-packages (from streamlit) (2.8.2)\n",
            "Requirement already satisfied: requests<3,>=2.4 in /usr/local/lib/python3.10/dist-packages (from streamlit) (2.27.1)\n",
            "Requirement already satisfied: rich<14,>=10.11.0 in /usr/local/lib/python3.10/dist-packages (from streamlit) (13.3.4)\n",
            "Requirement already satisfied: tenacity<9,>=8.0.0 in /usr/local/lib/python3.10/dist-packages (from streamlit) (8.2.2)\n",
            "Requirement already satisfied: toml<2 in /usr/local/lib/python3.10/dist-packages (from streamlit) (0.10.2)\n",
            "Requirement already satisfied: typing-extensions<5,>=4.0.1 in /usr/local/lib/python3.10/dist-packages (from streamlit) (4.5.0)\n",
            "Requirement already satisfied: tzlocal<5,>=1.1 in /usr/local/lib/python3.10/dist-packages (from streamlit) (4.3)\n",
            "Requirement already satisfied: validators<1,>=0.2 in /usr/local/lib/python3.10/dist-packages (from streamlit) (0.20.0)\n",
            "Requirement already satisfied: gitpython!=3.1.19,<4,>=3 in /usr/local/lib/python3.10/dist-packages (from streamlit) (3.1.31)\n",
            "Requirement already satisfied: pydeck<1,>=0.1.dev5 in /usr/local/lib/python3.10/dist-packages (from streamlit) (0.8.1b0)\n",
            "Requirement already satisfied: tornado<7,>=6.0.3 in /usr/local/lib/python3.10/dist-packages (from streamlit) (6.3.1)\n",
            "Requirement already satisfied: watchdog in /usr/local/lib/python3.10/dist-packages (from streamlit) (3.0.0)\n",
            "Requirement already satisfied: entrypoints in /usr/local/lib/python3.10/dist-packages (from altair<6,>=4.0->streamlit) (0.4)\n",
            "Requirement already satisfied: jinja2 in /usr/local/lib/python3.10/dist-packages (from altair<6,>=4.0->streamlit) (3.1.2)\n",
            "Requirement already satisfied: jsonschema>=3.0 in /usr/local/lib/python3.10/dist-packages (from altair<6,>=4.0->streamlit) (4.3.3)\n",
            "Requirement already satisfied: toolz in /usr/local/lib/python3.10/dist-packages (from altair<6,>=4.0->streamlit) (0.12.0)\n",
            "Requirement already satisfied: gitdb<5,>=4.0.1 in /usr/local/lib/python3.10/dist-packages (from gitpython!=3.1.19,<4,>=3->streamlit) (4.0.10)\n",
            "Requirement already satisfied: zipp>=0.5 in /usr/local/lib/python3.10/dist-packages (from importlib-metadata<7,>=1.4->streamlit) (3.15.0)\n",
            "Requirement already satisfied: pytz>=2020.1 in /usr/local/lib/python3.10/dist-packages (from pandas<3,>=0.25->streamlit) (2022.7.1)\n",
            "Requirement already satisfied: six>=1.5 in /usr/local/lib/python3.10/dist-packages (from python-dateutil<3,>=2->streamlit) (1.16.0)\n",
            "Requirement already satisfied: urllib3<1.27,>=1.21.1 in /usr/local/lib/python3.10/dist-packages (from requests<3,>=2.4->streamlit) (1.26.15)\n",
            "Requirement already satisfied: certifi>=2017.4.17 in /usr/local/lib/python3.10/dist-packages (from requests<3,>=2.4->streamlit) (2022.12.7)\n",
            "Requirement already satisfied: charset-normalizer~=2.0.0 in /usr/local/lib/python3.10/dist-packages (from requests<3,>=2.4->streamlit) (2.0.12)\n",
            "Requirement already satisfied: idna<4,>=2.5 in /usr/local/lib/python3.10/dist-packages (from requests<3,>=2.4->streamlit) (3.4)\n",
            "Requirement already satisfied: markdown-it-py<3.0.0,>=2.2.0 in /usr/local/lib/python3.10/dist-packages (from rich<14,>=10.11.0->streamlit) (2.2.0)\n",
            "Requirement already satisfied: pygments<3.0.0,>=2.13.0 in /usr/local/lib/python3.10/dist-packages (from rich<14,>=10.11.0->streamlit) (2.14.0)\n",
            "Requirement already satisfied: pytz-deprecation-shim in /usr/local/lib/python3.10/dist-packages (from tzlocal<5,>=1.1->streamlit) (0.1.0.post0)\n",
            "Requirement already satisfied: decorator>=3.4.0 in /usr/local/lib/python3.10/dist-packages (from validators<1,>=0.2->streamlit) (4.4.2)\n",
            "Requirement already satisfied: smmap<6,>=3.0.1 in /usr/local/lib/python3.10/dist-packages (from gitdb<5,>=4.0.1->gitpython!=3.1.19,<4,>=3->streamlit) (5.0.0)\n",
            "Requirement already satisfied: MarkupSafe>=2.0 in /usr/local/lib/python3.10/dist-packages (from jinja2->altair<6,>=4.0->streamlit) (2.1.2)\n",
            "Requirement already satisfied: attrs>=17.4.0 in /usr/local/lib/python3.10/dist-packages (from jsonschema>=3.0->altair<6,>=4.0->streamlit) (23.1.0)\n",
            "Requirement already satisfied: pyrsistent!=0.17.0,!=0.17.1,!=0.17.2,>=0.14.0 in /usr/local/lib/python3.10/dist-packages (from jsonschema>=3.0->altair<6,>=4.0->streamlit) (0.19.3)\n",
            "Requirement already satisfied: mdurl~=0.1 in /usr/local/lib/python3.10/dist-packages (from markdown-it-py<3.0.0,>=2.2.0->rich<14,>=10.11.0->streamlit) (0.1.2)\n",
            "Requirement already satisfied: tzdata in /usr/local/lib/python3.10/dist-packages (from pytz-deprecation-shim->tzlocal<5,>=1.1->streamlit) (2023.3)\n"
          ]
        }
      ]
    },
    {
      "cell_type": "code",
      "source": [
        "import pickle\n",
        "import streamlit as st\n",
        "\n",
        "def recommend(movie):\n",
        "    index = movies[movies['Title'] == movie].index[0]\n",
        "    distances = sorted(list(enumerate(similarity[index])), reverse=True, key=lambda x: x[1])\n",
        "    recommended_movie_names = []\n",
        "    for i in distances[1:6]:\n",
        "        recommended_movie_names.append(movies.iloc[i[0]].Title)\n",
        "\n",
        "    return recommended_movie_names\n",
        "\n",
        "page_bg_img = '''\n",
        "<style>\n",
        "      .stApp {\n",
        "  background-image: url(\"https://payload.cargocollective.com/1/11/367710/13568488/MOVIECLASSICSerikweb_2500_800.jpg\");\n",
        "  background-size: cover;\n",
        "}\n",
        "</style>\n",
        "'''\n",
        "\n",
        "st.markdown(page_bg_img, unsafe_allow_html=True)\n",
        "\n",
        "\n",
        "st.markdown('# Movie Recommendation System')\n",
        "movies = pickle.load(open('movie_list.pkl','rb'))\n",
        "similarity = pickle.load(open('similarity.pkl','rb'))\n",
        "\n",
        "movie_list = movies['Movie Name'].values\n",
        "selected_movie = st.selectbox(\n",
        "    \"Type or select a movie from the dropdown\",\n",
        "    movie_list\n",
        ")\n",
        "\n",
        "\n",
        "if st.button('Show Recommendation'):\n",
        "    recommended_movie_names = recommend(selected_movie)\n",
        "    for i in recommended_movie_names:\n",
        "        st.subheader(i)"
      ],
      "metadata": {
        "id": "zInXgKKJ1wLL"
      },
      "execution_count": 42,
      "outputs": []
    },
    {
      "cell_type": "code",
      "source": [
        "!python app.py"
      ],
      "metadata": {
        "colab": {
          "base_uri": "https://localhost:8080/"
        },
        "id": "F43OEgBK3SRZ",
        "outputId": "b952a035-5e26-4756-c5da-2f481f4bdf61"
      },
      "execution_count": 44,
      "outputs": [
        {
          "output_type": "stream",
          "name": "stdout",
          "text": [
            "python3: can't open file '/content/app.py': [Errno 2] No such file or directory\n"
          ]
        }
      ]
    },
    {
      "cell_type": "code",
      "source": [
        "import os\n",
        "\n",
        "# Get the current working directory\n",
        "current_directory = os.getcwd()\n",
        "\n",
        "# List the files in the current directory\n",
        "files_in_directory = os.listdir(current_directory)\n",
        "\n",
        "# Print the current directory and the files in it\n",
        "print(\"Current Directory:\", current_directory)\n",
        "print(\"Files in Directory:\", files_in_directory)"
      ],
      "metadata": {
        "colab": {
          "base_uri": "https://localhost:8080/"
        },
        "id": "_xbvnPl23p0U",
        "outputId": "83c39ba9-0ecb-4b47-a47a-6e6a2b62d255"
      },
      "execution_count": 45,
      "outputs": [
        {
          "output_type": "stream",
          "name": "stdout",
          "text": [
            "Current Directory: /content\n",
            "Files in Directory: ['.config', 'movie data_new1.xlsx', 'similarity.pkl', 'movie_data_new1.xlsx', 'movie_list.pkl', 'sample_data']\n"
          ]
        }
      ]
    },
    {
      "cell_type": "code",
      "source": [
        "%%writefile app.py\n",
        "\n",
        "import streamlit as st\n",
        "\n",
        "def recommend(movie):\n",
        "    index = movies[movies['Title'] == movie].index[0]\n",
        "    distances = sorted(list(enumerate(similarity[index])), reverse=True, key=lambda x: x[1])\n",
        "    recommended_movie_names = []\n",
        "    for i in distances[1:6]:\n",
        "        recommended_movie_names.append(movies.iloc[i[0]].Title)\n",
        "\n",
        "    return recommended_movie_names\n",
        "\n",
        "page_bg_img = '''\n",
        "<style>\n",
        "      .stApp {\n",
        "  background-image: url(\"https://payload.cargocollective.com/1/11/367710/13568488/MOVIECLASSICSerikweb_2500_800.jpg\");\n",
        "  background-size: cover;\n",
        "}\n",
        "</style>\n",
        "'''\n",
        "\n",
        "st.markdown(page_bg_img, unsafe_allow_html=True)\n",
        "\n",
        "\n",
        "st.markdown('# Movie Recommendation System')\n",
        "movies = pickle.load(open('movie_list.pkl','rb'))\n",
        "similarity = pickle.load(open('similarity.pkl','rb'))\n",
        "\n",
        "movie_list = movies['Movie Name'].values\n",
        "selected_movie = st.selectbox(\n",
        "    \"Type or select a movie from the dropdown\",\n",
        "    movie_list\n",
        ")\n",
        "\n",
        "\n",
        "if st.button('Show Recommendation'):\n",
        "    recommended_movie_names = recommend(selected_movie)\n",
        "    for i in recommended_movie_names:\n",
        "        st.subheader(i)\n"
      ],
      "metadata": {
        "colab": {
          "base_uri": "https://localhost:8080/"
        },
        "id": "oF9FGERz4SnB",
        "outputId": "633ad5d6-e024-4324-da27-2d82ff6547ad"
      },
      "execution_count": 4,
      "outputs": [
        {
          "output_type": "stream",
          "name": "stdout",
          "text": [
            "Overwriting app.py\n"
          ]
        }
      ]
    },
    {
      "cell_type": "code",
      "source": [
        "!streamlit run app.py"
      ],
      "metadata": {
        "colab": {
          "base_uri": "https://localhost:8080/"
        },
        "id": "w2iS0v1T4uvz",
        "outputId": "773def64-7e37-470a-dda6-a07d0cb9515f"
      },
      "execution_count": null,
      "outputs": [
        {
          "output_type": "stream",
          "name": "stdout",
          "text": [
            "\n",
            "Collecting usage statistics. To deactivate, set browser.gatherUsageStats to False.\n",
            "\u001b[0m\n",
            "\u001b[0m\n",
            "\u001b[34m\u001b[1m  You can now view your Streamlit app in your browser.\u001b[0m\n",
            "\u001b[0m\n",
            "\u001b[34m  Network URL: \u001b[0m\u001b[1mhttp://172.28.0.12:8501\u001b[0m\n",
            "\u001b[34m  External URL: \u001b[0m\u001b[1mhttp://34.23.255.242:8501\u001b[0m\n",
            "\u001b[0m\n"
          ]
        }
      ]
    }
  ]
}